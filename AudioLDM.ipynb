{
  "cells": [
    {
      "attachments": {},
      "cell_type": "markdown",
      "metadata": {
        "id": "YdzIO-_gZRyy"
      },
      "source": [
        "# Audio Generation with AudioLDM\n",
        "\n",
        "Generate speech, sound effects, music and beyond.\n",
        "\n",
        "https://audioldm.github.io\n",
        "\n",
        "## This notebook supports\n",
        "\n",
        "- Text2Audio Generation: generate audio given text input.\n",
        "- Audio2Audio Generation: given an audio, generate another audio that contain the same type of sound. \n",
        "- Audio2Audio Style Transfer: transfer the sound of an audio into another one using the text description.\n",
        "\n",
        "## Important tricks to make your generated audio sound better\n",
        "\n",
        "1. Try to provide more hints to AudioLDM, such as using more adjectives to describe your sound (e.g., clearly, high quality) or make your target more specific (e.g., \"water stream in a forest\" instead of \"stream\"). This can make sure AudioLDM understand what you want. \n",
        "2. It's best to use general terms like 'man' or 'woman' instead of specific names for individuals or abstract objects that humans may not be familiar with."
      ]
    },
    {
      "cell_type": "code",
      "execution_count": null,
      "metadata": {
        "cellView": "form",
        "id": "9M0ANdE2T0RX"
      },
      "outputs": [],
      "source": [
        "#@title Settings\n",
        "\n",
        "import os\n",
        "\n",
        "connect_google_drive = False #@param {type:\"boolean\"}\n",
        "use_model_path = False #@param {type:\"boolean\"}\n",
        "model_path = '' #@param {type:\"string\"}"
      ]
    },
    {
      "cell_type": "code",
      "execution_count": null,
      "metadata": {
        "cellView": "form",
        "id": "VaRGPVSu8Tk1"
      },
      "outputs": [],
      "source": [
        "#@title Dependencies\n",
        "\n",
        "if connect_google_drive:\n",
        "  from google.colab import drive\n",
        "  drive.mount('/gdrive')\n",
        "\n",
        "if not use_model_path:\n",
        "  model_path = '/content/AudioLDM-S-Full/'\n",
        "  print('Getting AudioLDM model...')\n",
        "  os.system('curl -s https://packagecloud.io/install/repositories/github/git-lfs/script.deb.sh | sudo bash')\n",
        "  os.system('sudo apt-get install git-lfs')\n",
        "  os.system('git clone https://huggingface.co/haoheliu/AudioLDM-S-Full')\n",
        "  os.system('mv AudioLDM-S-Full/audioldm-s-full AudioLDM-S-Full/audioldm-s-full.ckpt')\n",
        "  print('Done getting AudioLDM model!')\n",
        "\n",
        "ckpt_path = os.path.join(model_path, 'audioldm-s-full.ckpt')\n",
        "%env AUDIOLDM_CACHE_DIR=$model_path\n",
        "\n",
        "!pip3 install audioldm==0.0.19"
      ]
    },
    {
      "cell_type": "code",
      "execution_count": null,
      "metadata": {
        "cellView": "form",
        "id": "XVm3eFfh8lxe"
      },
      "outputs": [],
      "source": [
        "#@title Imports\n",
        "\n",
        "import random\n",
        "import uuid\n",
        "import audioldm\n",
        "import soundfile as sf\n",
        "from IPython.display import Audio, display\n",
        "\n",
        "model = audioldm.build_model(ckpt_path=ckpt_path)\n",
        "\n",
        "def save_waveform(waveform, file_prefix):\n",
        "    if len(waveform) == 1:\n",
        "        waveform = waveform[0]\n",
        "    file_name = f'{file_prefix}_{uuid.uuid4()}.wav'\n",
        "    sf.write(file_name, waveform.T, 16000)\n",
        "    display(Audio(filename=file_name, autoplay=False))\n",
        "    print(f'Created {file_name} file')"
      ]
    },
    {
      "attachments": {},
      "cell_type": "markdown",
      "metadata": {
        "id": "WCoLINI1jfLj"
      },
      "source": [
        "## Text2Audio Generation"
      ]
    },
    {
      "cell_type": "code",
      "execution_count": null,
      "metadata": {
        "cellView": "form",
        "id": "VJoCP0CK_HXp"
      },
      "outputs": [],
      "source": [
        "#@title Generate an audio guided by a text\n",
        "\n",
        "text = '' #@param {type:\"string\"}\n",
        "\n",
        "waveform = audioldm.text_to_audio(\n",
        "    model,\n",
        "    text,\n",
        "    None,\n",
        "    random.randint(0, 10_000_000),\n",
        "    duration=10.0,\n",
        "    guidance_scale=2.5,\n",
        "    ddim_steps=200,\n",
        "    n_candidate_gen_per_text=3,\n",
        "    batchsize=1\n",
        ")\n",
        "save_waveform(waveform, 'text2audio')"
      ]
    },
    {
      "attachments": {},
      "cell_type": "markdown",
      "metadata": {
        "id": "bfEDkm4zjuwP"
      },
      "source": [
        "## Audio2Audio Generation"
      ]
    },
    {
      "cell_type": "code",
      "execution_count": null,
      "metadata": {
        "cellView": "form",
        "id": "sDNcCrPffEbf"
      },
      "outputs": [],
      "source": [
        "#@title Generate an audio guided by an audio (output will have similar audio events as the input audio file).\n",
        "\n",
        "audio_file_path = '' #@param {type:\"string\"}\n",
        "\n",
        "assert audio_file_path is not None\n",
        "assert os.path.exists(audio_file_path), 'The original audio file \\'%s\\' for style transfer does not exist.' % audio_file_path\n",
        "\n",
        "waveform = audioldm.text_to_audio(\n",
        "    model,\n",
        "    '',\n",
        "    audio_file_path,\n",
        "    random.randint(0, 10_000_000),\n",
        "    duration=10.0,\n",
        "    guidance_scale=2.5,\n",
        "    ddim_steps=200,\n",
        "    n_candidate_gen_per_text=3,\n",
        "    batchsize=1\n",
        ")\n",
        "save_waveform(waveform, 'audio2audio')"
      ]
    },
    {
      "attachments": {},
      "cell_type": "markdown",
      "metadata": {
        "id": "v4YLRsLzlLUO"
      },
      "source": [
        "## Audio2Audio Style Transfer"
      ]
    },
    {
      "cell_type": "code",
      "execution_count": null,
      "metadata": {
        "cellView": "form",
        "id": "GrwEezfQkmfo"
      },
      "outputs": [],
      "source": [
        "#@title Text-guided Audio-to-Audio Style Transfer\n",
        "\n",
        "audio_file_path = '' #@param {type:\"string\"}\n",
        "text = '' #@param {type:\"string\"}\n",
        "transfer_strength = 0.5 #@param {type:\"slider\", min:0.0, max:1.0, step:0.1}\n",
        "\n",
        "assert audio_file_path is not None\n",
        "assert os.path.exists(audio_file_path), 'The original audio file \\'%s\\' for style transfer does not exist.' % audio_file_path\n",
        "\n",
        "waveform = audioldm.style_transfer(\n",
        "    model,\n",
        "    text,\n",
        "    audio_file_path,\n",
        "    transfer_strength,\n",
        "    random.randint(0, 10_000_000),\n",
        "    duration=10.0,\n",
        "    guidance_scale=2.5,\n",
        "    ddim_steps=200,\n",
        "    batchsize=1\n",
        ")\n",
        "save_waveform(waveform, 'transfer_audio2audio')"
      ]
    }
  ],
  "metadata": {
    "accelerator": "GPU",
    "colab": {
      "private_outputs": true,
      "provenance": []
    },
    "gpuClass": "standard",
    "kernelspec": {
      "display_name": "Python 3",
      "name": "python3"
    },
    "language_info": {
      "name": "python"
    }
  },
  "nbformat": 4,
  "nbformat_minor": 0
}
